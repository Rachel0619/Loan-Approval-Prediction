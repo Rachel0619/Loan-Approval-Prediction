{
 "cells": [
  {
   "cell_type": "code",
   "execution_count": 1,
   "metadata": {},
   "outputs": [],
   "source": [
    "# %pip install -q hillclimbers"
   ]
  },
  {
   "cell_type": "code",
   "execution_count": 2,
   "metadata": {},
   "outputs": [],
   "source": [
    "# This Python 3 environment comes with many helpful analytics libraries installed\n",
    "# It is defined by the kaggle/python Docker image: https://github.com/kaggle/docker-python\n",
    "# For example, here's several helpful packages to load\n",
    "\n",
    "import numpy as np # linear algebra\n",
    "import pandas as pd # data processing, CSV file I/O (e.g. pd.read_csv)\n",
    "from collections import Counter\n",
    "\n",
    "# Input data files are available in the read-only \"../input/\" directory\n",
    "# For example, running this (by clicking run or pressing Shift+Enter) will list all files under the input directory\n",
    "\n",
    "import os\n",
    "for dirname, _, filenames in os.walk('/kaggle/input'):\n",
    "    for filename in filenames:\n",
    "        print(os.path.join(dirname, filename))\n",
    "\n",
    "# You can write up to 20GB to the current directory (/kaggle/working/) that gets preserved as output when you create a version using \"Save & Run All\" \n",
    "# You can also write temporary files to /kaggle/temp/, but they won't be saved outside of the current session"
   ]
  },
  {
   "cell_type": "code",
   "execution_count": 3,
   "metadata": {},
   "outputs": [],
   "source": [
    "from sklearn.preprocessing import StandardScaler, OneHotEncoder\n",
    "from sklearn.model_selection import train_test_split\n",
    "from sklearn.linear_model import LogisticRegression\n",
    "from sklearn.neighbors import KNeighborsClassifier\n",
    "from sklearn.svm import SVC\n",
    "from sklearn.ensemble import RandomForestClassifier\n",
    "from xgboost import XGBClassifier\n",
    "from catboost import CatBoostClassifier\n",
    "from lightgbm import plot_importance\n",
    "from sklearn.metrics import accuracy_score, precision_score, recall_score, f1_score, classification_report, confusion_matrix\n",
    "from sklearn.metrics import classification_report\n",
    "from sklearn.model_selection import cross_val_score\n",
    "from sklearn.metrics import roc_auc_score\n",
    "from sklearn.pipeline import make_pipeline\n",
    "from sklearn.compose import ColumnTransformer\n",
    "from sklearn.pipeline import Pipeline\n",
    "from sklearn.model_selection import StratifiedKFold\n",
    "import seaborn as sns\n",
    "import optuna\n",
    "from optuna.samplers import TPESampler\n",
    "from tqdm import tqdm\n",
    "# from hillclimbers import climb_hill, partial\n",
    "import shap\n",
    "\n",
    "import warnings\n",
    "warnings.filterwarnings('ignore')"
   ]
  },
  {
   "cell_type": "code",
   "execution_count": 4,
   "metadata": {},
   "outputs": [],
   "source": [
    "# merge original dataset\n",
    "# train_df = pd.read_csv('/kaggle/input/playground-series-s4e10/train.csv')\n",
    "# X_test = pd.read_csv('/kaggle/input/playground-series-s4e10/test.csv')\n",
    "# original_df = pd.read_csv('/kaggle/input/ps4e9-original-data-loan-approval-prediction/credit_risk_dataset.csv')\n",
    "# train_df = pd.concat([train_df, original_df], axis=0)\n",
    "# X_test_index = X_test['id']\n",
    "\n",
    "# merge original dataset\n",
    "train_df = pd.read_csv(\"../data/train.csv\")\n",
    "X_test = pd.read_csv(\"../data/test.csv\")\n",
    "original_df = pd.read_csv(\"../data/original.csv\")\n",
    "train_df = pd.concat([train_df, original_df], axis=0)\n",
    "X_test_index = X_test['id']"
   ]
  },
  {
   "cell_type": "code",
   "execution_count": 5,
   "metadata": {},
   "outputs": [
    {
     "name": "stdout",
     "output_type": "stream",
     "text": [
      "['person_home_ownership', 'loan_intent', 'loan_grade', 'cb_person_default_on_file']\n"
     ]
    }
   ],
   "source": [
    "categorical_columns = train_df.select_dtypes(include=['object']).columns.to_list()\n",
    "\n",
    "# Remove 'loan_status' from the list\n",
    "if 'loan_status' in categorical_columns:  \n",
    "    categorical_columns.remove('loan_status')\n",
    "\n",
    "print(categorical_columns) "
   ]
  },
  {
   "cell_type": "code",
   "execution_count": 6,
   "metadata": {},
   "outputs": [
    {
     "name": "stdout",
     "output_type": "stream",
     "text": [
      "['person_age', 'person_income', 'person_emp_length', 'loan_amnt', 'loan_int_rate', 'loan_percent_income', 'cb_person_cred_hist_length']\n"
     ]
    }
   ],
   "source": [
    "numerical_columns = train_df.select_dtypes(include=['int', 'float']).columns.to_list()\n",
    "\n",
    "for column in ['id', 'loan_status']:\n",
    "    if column in numerical_columns:\n",
    "        numerical_columns.remove(column)\n",
    "    \n",
    "print(numerical_columns)"
   ]
  },
  {
   "cell_type": "markdown",
   "metadata": {},
   "source": [
    "## 1 Data Preprocessing"
   ]
  },
  {
   "cell_type": "markdown",
   "metadata": {},
   "source": [
    "### 1.1 Drop unique identifier (`id` column)"
   ]
  },
  {
   "cell_type": "code",
   "execution_count": 7,
   "metadata": {},
   "outputs": [],
   "source": [
    "train_df = train_df.drop(columns=['id'])\n",
    "X_test = X_test.drop(columns=['id'])"
   ]
  },
  {
   "cell_type": "markdown",
   "metadata": {},
   "source": [
    "### 1.2 Drop rows with missing values"
   ]
  },
  {
   "cell_type": "code",
   "execution_count": 8,
   "metadata": {},
   "outputs": [],
   "source": [
    "# Drop rows with missing values in 'person_emp_length' and 'loan_int_rate'\n",
    "train_df = train_df.dropna(subset=['person_emp_length', 'loan_int_rate'])"
   ]
  },
  {
   "cell_type": "code",
   "execution_count": 9,
   "metadata": {},
   "outputs": [
    {
     "name": "stdout",
     "output_type": "stream",
     "text": [
      "Shape of train set after dropping missing values: (87283, 12)\n"
     ]
    }
   ],
   "source": [
    "print(f'Shape of train set after dropping missing values: {train_df.shape}')"
   ]
  },
  {
   "cell_type": "code",
   "execution_count": 10,
   "metadata": {},
   "outputs": [
    {
     "data": {
      "text/plain": [
       "person_age                    0\n",
       "person_income                 0\n",
       "person_home_ownership         0\n",
       "person_emp_length             0\n",
       "loan_intent                   0\n",
       "loan_grade                    0\n",
       "loan_amnt                     0\n",
       "loan_int_rate                 0\n",
       "loan_percent_income           0\n",
       "cb_person_default_on_file     0\n",
       "cb_person_cred_hist_length    0\n",
       "loan_status                   0\n",
       "dtype: int64"
      ]
     },
     "execution_count": 10,
     "metadata": {},
     "output_type": "execute_result"
    }
   ],
   "source": [
    "# double check for missing value\n",
    "train_df.isna().sum()"
   ]
  },
  {
   "cell_type": "markdown",
   "metadata": {},
   "source": [
    "### 1.3 Drop rows with outliers"
   ]
  },
  {
   "cell_type": "code",
   "execution_count": 11,
   "metadata": {},
   "outputs": [],
   "source": [
    "def detect_outliers(df, n, features):\n",
    "    \"\"\"\n",
    "    Takes a dataframe df of features and returns a list of the indices\n",
    "    corresponding to the observations containing more than n outliers according\n",
    "    to the Tukey method.\n",
    "    \"\"\"\n",
    "    outlier_indices = []\n",
    "\n",
    "    # iterate over features(columns)\n",
    "    for col in features:\n",
    "        # 1st quartile (25%)\n",
    "        Q1 = np.percentile(df[col], 25)\n",
    "        # 3rd quartile (75%)\n",
    "        Q3 = np.percentile(df[col], 75)\n",
    "        # Interquartile range (IQR)\n",
    "        IQR = Q3 - Q1\n",
    "\n",
    "        # outlier step\n",
    "        outlier_step = 1.5 * IQR\n",
    "\n",
    "        # Determine a list of indices of outliers for feature col\n",
    "        outlier_list_col = df[(df[col] < Q1 - outlier_step) | (df[col] > Q3 + outlier_step)].index\n",
    "\n",
    "        # append the found outlier indices for col to the list of outlier indices \n",
    "        outlier_indices.extend(outlier_list_col)\n",
    "\n",
    "    # select observations containing more than 2 outliers\n",
    "    outlier_indices = Counter(outlier_indices)        \n",
    "    multiple_outliers = list(k for k, v in outlier_indices.items() if v > n)\n",
    "\n",
    "    return multiple_outliers\n",
    "\n",
    "\n",
    "# params dataset, number of outliers for rejection, list of features\n",
    "outliers_to_drop = detect_outliers(train_df, 1, numerical_columns)"
   ]
  },
  {
   "cell_type": "code",
   "execution_count": 12,
   "metadata": {},
   "outputs": [
    {
     "name": "stdout",
     "output_type": "stream",
     "text": [
      "There are 3881 rows of outliers in the train set\n"
     ]
    }
   ],
   "source": [
    "print(f'There are {len(outliers_to_drop)} rows of outliers in the train set')"
   ]
  },
  {
   "cell_type": "code",
   "execution_count": 13,
   "metadata": {},
   "outputs": [
    {
     "name": "stdout",
     "output_type": "stream",
     "text": [
      "Shape of train set before dropping outliers: (87283, 12)\n"
     ]
    }
   ],
   "source": [
    "print(f'Shape of train set before dropping outliers: {train_df.shape}')\n",
    "train_df = train_df.drop(outliers_to_drop, axis=0).reset_index(drop=True)"
   ]
  },
  {
   "cell_type": "code",
   "execution_count": 14,
   "metadata": {},
   "outputs": [
    {
     "name": "stdout",
     "output_type": "stream",
     "text": [
      "Shape of train set after dropping outliers: (80636, 12)\n"
     ]
    }
   ],
   "source": [
    "print(f'Shape of train set after dropping outliers: {train_df.shape}')"
   ]
  },
  {
   "cell_type": "code",
   "execution_count": 15,
   "metadata": {},
   "outputs": [],
   "source": [
    "# import matplotlib.pyplot as plt\n",
    "# for col in numerical_columns:\n",
    "#     plt.figure(figsize=(8, 4))\n",
    "#     sns.histplot(train_df[col], kde=True, color='blue', label='Train')\n",
    "#     sns.histplot(X_test[col], kde=True, color='orange', label='Test')\n",
    "#     plt.title(f'Distribution of {col}')\n",
    "#     plt.show()"
   ]
  },
  {
   "cell_type": "markdown",
   "metadata": {},
   "source": [
    "### 1.4 Split features with target"
   ]
  },
  {
   "cell_type": "code",
   "execution_count": 16,
   "metadata": {},
   "outputs": [],
   "source": [
    "X_train = train_df.drop(columns=['loan_status'])\n",
    "y_train = train_df['loan_status']"
   ]
  },
  {
   "cell_type": "code",
   "execution_count": 17,
   "metadata": {},
   "outputs": [
    {
     "name": "stdout",
     "output_type": "stream",
     "text": [
      "True\n"
     ]
    }
   ],
   "source": [
    "if X_train.shape[0] == y_train.shape[0]:\n",
    "    print(True)"
   ]
  },
  {
   "cell_type": "markdown",
   "metadata": {},
   "source": [
    "### 1.5 Encoding categorical features"
   ]
  },
  {
   "cell_type": "code",
   "execution_count": 18,
   "metadata": {},
   "outputs": [],
   "source": [
    "def one_hot_encode(df, features):\n",
    "    \"\"\"\n",
    "    This function takes a DataFrame, identifies non-numeric (categorical) columns,\n",
    "    applies one-hot encoding to them, and returns the modified DataFrame.\n",
    "    \"\"\"\n",
    "    for col in features:\n",
    "        df_dum = pd.get_dummies(df[col], prefix=col, dtype=int)\n",
    "        df = df.drop(col, axis=1)\n",
    "        df = pd.concat([df, df_dum], axis=1)\n",
    "    return df\n",
    "\n",
    "\n",
    "X_train = one_hot_encode(X_train, categorical_columns)\n",
    "X_test = one_hot_encode(X_test, categorical_columns)"
   ]
  },
  {
   "cell_type": "markdown",
   "metadata": {},
   "source": [
    "### 1.6 Scaling Numerical Features before doing PCA"
   ]
  },
  {
   "cell_type": "code",
   "execution_count": 19,
   "metadata": {},
   "outputs": [],
   "source": [
    "scaler = StandardScaler() \n",
    "\n",
    "X_train_scaled = scaler.fit_transform(X_train)\n",
    "X_test_scaled = scaler.transform(X_test)"
   ]
  },
  {
   "cell_type": "markdown",
   "metadata": {},
   "source": [
    "## 2 Feature Engineering"
   ]
  },
  {
   "cell_type": "markdown",
   "metadata": {},
   "source": [
    "### 2.1 Generate new features"
   ]
  },
  {
   "cell_type": "code",
   "execution_count": 20,
   "metadata": {},
   "outputs": [],
   "source": [
    "def feature_generation(df_):\n",
    "    df = df_.copy()\n",
    "    df['interest_percent_income'] = round(df['loan_int_rate'] * df['loan_amnt'] / df['person_income'], 2)\n",
    "    df['zero_repayment_risk'] = np.where(df['loan_percent_income'] == 0, 1, 0)\n",
    "    # Calculate repayment_year normally for non-zero loan_percent_income\n",
    "    df['repayment_year'] = np.where(\n",
    "        df['loan_percent_income'] != 0,\n",
    "        df['loan_amnt'] / (df['loan_percent_income'] * df['person_income']),\n",
    "        np.nan  # Temporarily assign NaN for zero loan_percent_income\n",
    "    )\n",
    "    \n",
    "    # Calculate the 99th percentile of repayment_year for non-zero cases\n",
    "    high_quantile_value = df['repayment_year'].quantile(0.99)\n",
    "    \n",
    "    # Assign the high quantile value to repayment_year for cases with zero loan_percent_income\n",
    "    df['repayment_year'].fillna(high_quantile_value, inplace=True)\n",
    "    df['loan_to_income'] = df['loan_amnt'] / df['person_income']\n",
    "\n",
    "    return df\n",
    "\n",
    "X_train = feature_generation(X_train)\n",
    "X_test = feature_generation(X_test)"
   ]
  },
  {
   "cell_type": "code",
   "execution_count": 21,
   "metadata": {},
   "outputs": [
    {
     "data": {
      "text/plain": [
       "(80636, 30)"
      ]
     },
     "execution_count": 21,
     "metadata": {},
     "output_type": "execute_result"
    }
   ],
   "source": [
    "X_train.shape"
   ]
  },
  {
   "cell_type": "code",
   "execution_count": 22,
   "metadata": {},
   "outputs": [
    {
     "name": "stdout",
     "output_type": "stream",
     "text": [
      "data validation done: train set and test set are consistent\n"
     ]
    }
   ],
   "source": [
    "if X_train.shape[1] == X_test.shape[1]:\n",
    "    print('data validation done: train set and test set are consistent')\n",
    "else:\n",
    "    print('train set and test set are not consistent!')"
   ]
  },
  {
   "cell_type": "markdown",
   "metadata": {},
   "source": [
    "### 2.2 Balance the dataset"
   ]
  },
  {
   "cell_type": "markdown",
   "metadata": {},
   "source": [
    "Common ways to handle imbalanced dataset:\n",
    "1. Random under-sampling\n",
    "2. Random over-sampling\n",
    "3. Synthetic over-sampling: SMOTE\n",
    "\n",
    "The method I choose here is SMOTE. I don't go with under-sampling because we don't have very large training set so I don't want to miss more information. Oversampling won't have this problem but it may suffer from overfitting."
   ]
  },
  {
   "cell_type": "code",
   "execution_count": 23,
   "metadata": {},
   "outputs": [],
   "source": [
    "from imblearn.over_sampling import SMOTE, RandomOverSampler\n",
    "\n",
    "sm = SMOTE(sampling_strategy=1, random_state=42, k_neighbors=3)\n",
    "X_res, y_res = sm.fit_resample(X_train, y_train)"
   ]
  },
  {
   "cell_type": "code",
   "execution_count": 24,
   "metadata": {},
   "outputs": [],
   "source": [
    "X = X_res.copy()\n",
    "y = y_res.copy()"
   ]
  },
  {
   "cell_type": "code",
   "execution_count": 25,
   "metadata": {},
   "outputs": [
    {
     "data": {
      "text/plain": [
       "loan_status\n",
       "0    67460\n",
       "1    67460\n",
       "Name: count, dtype: int64"
      ]
     },
     "execution_count": 25,
     "metadata": {},
     "output_type": "execute_result"
    }
   ],
   "source": [
    "y.value_counts()"
   ]
  },
  {
   "cell_type": "code",
   "execution_count": 26,
   "metadata": {},
   "outputs": [
    {
     "data": {
      "text/plain": [
       "(134920, 30)"
      ]
     },
     "execution_count": 26,
     "metadata": {},
     "output_type": "execute_result"
    }
   ],
   "source": [
    "X.shape"
   ]
  },
  {
   "cell_type": "markdown",
   "metadata": {},
   "source": [
    "### 2.3 PCA "
   ]
  },
  {
   "cell_type": "code",
   "execution_count": 27,
   "metadata": {},
   "outputs": [],
   "source": [
    "# from sklearn.decomposition import PCA\n",
    "\n",
    "\n",
    "# PCA_TR = PCA(n_components=15)\n",
    "# X_train_scaled = PCA_TR.fit_transform(X_train_scaled)\n",
    "\n",
    "# sum(PCA_TR.explained_variance_ratio_)"
   ]
  },
  {
   "cell_type": "markdown",
   "metadata": {},
   "source": [
    "### 2.4 SelectKBest"
   ]
  },
  {
   "cell_type": "code",
   "execution_count": 28,
   "metadata": {},
   "outputs": [],
   "source": [
    "# from sklearn.feature_selection import mutual_info_classif\n",
    "# from sklearn.feature_selection import SelectKBest\n",
    "\n",
    "# # select top 2 features using mutual_info_classif\n",
    "# selector = SelectKBest(mutual_info_classif, k=15)\n",
    "# X_new = selector.fit_transform(X, y)\n",
    "\n",
    "# selected_features = selector.get_support(indices=True)\n",
    "# feature_names = X.columns[selected_features]  # Assuming X is a DataFrame with column names\n",
    "\n",
    "# print(\"Selected Features:\")\n",
    "# print(feature_names)\n",
    "\n",
    "# numerical_columns = [col for col in numerical_columns if col in selected_features]\n"
   ]
  },
  {
   "cell_type": "code",
   "execution_count": 29,
   "metadata": {},
   "outputs": [],
   "source": [
    "# X = X[feature_names]\n",
    "# X_test = X_test[feature_names]"
   ]
  },
  {
   "cell_type": "code",
   "execution_count": 30,
   "metadata": {},
   "outputs": [],
   "source": [
    "# X.shape, X_test.shape"
   ]
  },
  {
   "cell_type": "markdown",
   "metadata": {},
   "source": [
    "## 3 Model Selection"
   ]
  },
  {
   "cell_type": "code",
   "execution_count": 31,
   "metadata": {},
   "outputs": [],
   "source": [
    "preprocessor = ColumnTransformer(\n",
    "    transformers=[\n",
    "        ('num', StandardScaler(), numerical_columns)\n",
    "    ],\n",
    "    remainder='passthrough'  \n",
    ")"
   ]
  },
  {
   "cell_type": "code",
   "execution_count": 32,
   "metadata": {},
   "outputs": [],
   "source": [
    "from sklearn.metrics import roc_auc_score, f1_score\n",
    "\n",
    "def model_training(model):\n",
    "    # Set the cross-validation parameters\n",
    "    n_splits = 5\n",
    "    kf = StratifiedKFold(n_splits=n_splits, shuffle=True, random_state=42)\n",
    "\n",
    "    # Initialize arrays to store the OOF predictions and test predictions\n",
    "    oof_preds = np.zeros(X.shape[0])\n",
    "    test_preds = np.zeros(X_test.shape[0])\n",
    "    \n",
    "    # Initialize a list to store F1 scores of each fold\n",
    "    f1_scores = []\n",
    "\n",
    "    # Looping over cross-validation folds\n",
    "    for fold, (train_idx, val_idx) in enumerate(kf.split(X, y)):\n",
    "        print(f\"Training the Fold {fold+1}/{n_splits}\")\n",
    "\n",
    "        # Separate training and validation data\n",
    "        X_tr, X_val = X.iloc[train_idx], X.iloc[val_idx]\n",
    "        y_tr, y_val = y.iloc[train_idx], y.iloc[val_idx]\n",
    "        \n",
    "        pipeline = Pipeline(steps=[('preprocessor', preprocessor), ('classifier', model)])\n",
    "\n",
    "        # Train the model\n",
    "        pipeline.fit(X_tr, y_tr)\n",
    "\n",
    "        # Predictions on the validation set\n",
    "        val_preds_proba = pipeline.predict_proba(X_val)[:, 1]\n",
    "        val_preds = (val_preds_proba >= 0.5).astype(int)  # Convert probabilities to binary predictions\n",
    "        oof_preds[val_idx] = val_preds_proba  # Store OOF predictions\n",
    "\n",
    "        # Predictions on the test set\n",
    "        test_preds += pipeline.predict_proba(X_test)[:, 1] / n_splits  # Average of predictions for each fold\n",
    "\n",
    "        # AUC and F1 Score evaluation for this fold\n",
    "        fold_auc = roc_auc_score(y_val, val_preds_proba)\n",
    "        fold_f1 = f1_score(y_val, val_preds)\n",
    "        f1_scores.append(fold_f1)\n",
    "\n",
    "        print(f\"AUC of Fold {fold+1}: {fold_auc:.5f}\")\n",
    "        print(f\"F1 Score of Fold {fold+1}: {fold_f1:.5f}\")\n",
    "\n",
    "    # AUC OOF Assessment\n",
    "    oof_auc = roc_auc_score(y, oof_preds)\n",
    "    print(f\"AUC OOF: {oof_auc:.4f}\")\n",
    "\n",
    "    # Average F1 Score across all folds\n",
    "    avg_f1_score = np.mean(f1_scores)\n",
    "    print(f\"Average F1 Score: {avg_f1_score:.4f}\")\n",
    "    \n",
    "    return oof_preds, test_preds\n"
   ]
  },
  {
   "cell_type": "code",
   "execution_count": 33,
   "metadata": {},
   "outputs": [],
   "source": [
    "oof_preds = {}\n",
    "test_preds = {}"
   ]
  },
  {
   "cell_type": "code",
   "execution_count": 34,
   "metadata": {},
   "outputs": [
    {
     "name": "stdout",
     "output_type": "stream",
     "text": [
      "Training the Fold 1/5\n",
      "AUC of Fold 1: 0.99206\n",
      "F1 Score of Fold 1: 0.96798\n",
      "Training the Fold 2/5\n",
      "AUC of Fold 2: 0.99105\n",
      "F1 Score of Fold 2: 0.96677\n",
      "Training the Fold 3/5\n",
      "AUC of Fold 3: 0.99224\n",
      "F1 Score of Fold 3: 0.96874\n",
      "Training the Fold 4/5\n",
      "AUC of Fold 4: 0.99123\n",
      "F1 Score of Fold 4: 0.96831\n",
      "Training the Fold 5/5\n",
      "AUC of Fold 5: 0.99087\n",
      "F1 Score of Fold 5: 0.96586\n",
      "AUC OOF: 0.9915\n",
      "Average F1 Score: 0.9675\n"
     ]
    }
   ],
   "source": [
    "xgb_base_model = XGBClassifier()\n",
    "oof_preds[\"xgb_base_model\"], test_preds[\"xgb_base_model\"] = model_training(xgb_base_model)"
   ]
  },
  {
   "cell_type": "markdown",
   "metadata": {},
   "source": [
    "## 4 Model training and hyper tuning with Optuna"
   ]
  },
  {
   "cell_type": "markdown",
   "metadata": {},
   "source": [
    "### 4.1 Xgboost + Optuna"
   ]
  },
  {
   "cell_type": "code",
   "execution_count": 35,
   "metadata": {},
   "outputs": [],
   "source": [
    "def objective(trial):\n",
    "    # Define the hyperparameter search space\n",
    "    params = {\n",
    "        'objective': 'binary:logistic',\n",
    "        'device': 'cuda',\n",
    "        'eval_metric': 'auc',\n",
    "        'learning_rate': trial.suggest_float('learning_rate', 0.01, 0.3, log=True),\n",
    "        'n_estimators': 1000,\n",
    "        'max_depth': trial.suggest_int('max_depth', 6, 12),\n",
    "        'subsample': trial.suggest_float('subsample', 0.6, 1.0),\n",
    "        'colsample_bytree': trial.suggest_float('colsample_bytree', 0.6, 1.0),\n",
    "        'lambda': trial.suggest_float('lambda', 1e-3, 10.0, log=True),\n",
    "        'alpha': trial.suggest_float('alpha', 1e-3, 10.0, log=True),\n",
    "        'random_state': 42,\n",
    "        'n_jobs': -1,\n",
    "        'tree_method': 'gpu_hist',\n",
    "        'verbosity': 0  # Suppress warnings and messages from XGBoost\n",
    "    }\n",
    "    \n",
    "    # Fitting LGBM model with parameters from the trials\n",
    "    model = Pipeline(steps=[('preprocessor', preprocessor), ('classifier', XGBClassifier(**params))])\n",
    "    \n",
    "    # Stratified sampling \n",
    "    cv = StratifiedKFold(5, shuffle=True, random_state=42)\n",
    "    cv_splits = cv.split(X, y)\n",
    "    \n",
    "    # Creating empty scores list to hold AUC scores from each trialed model\n",
    "    scores = []\n",
    "    for train_idx, val_idx in cv_splits:\n",
    "        X_train_fold, X_val_fold = X.iloc[train_idx], X.iloc[val_idx]\n",
    "        y_train_fold, y_val_fold = y.iloc[train_idx], y.iloc[val_idx]\n",
    "        model.fit(X_train_fold, y_train_fold)\n",
    "        y_pred_proba = model.predict_proba(X_val_fold)[:, 1]\n",
    "        score = roc_auc_score(y_val_fold, y_pred_proba)\n",
    "        scores.append(score)\n",
    "        \n",
    "    # Printing and returning mean AUC scores\n",
    "    mean_score = np.mean(scores)\n",
    "    print(f\"Mean ROC AUC Score = {mean_score:.5f}\")\n",
    "    return mean_score\n",
    "\n",
    "# When set to True, optuna will create a study to find the optimal parameters\n",
    "train = False\n",
    "\n",
    "if train:\n",
    "    \n",
    "    # Each optuna study uses an independent sampler with a TPE algorithm\n",
    "    # For each trial, the TPE essentially uses Gaussian Mixture Models to identify the optimal parameter value\n",
    "    study = optuna.create_study(sampler=TPESampler(n_startup_trials=30, multivariate=True, seed=42), direction=\"maximize\")\n",
    "    study.optimize(objective, n_trials=100)\n",
    "    print('Best value:', study.best_value)\n",
    "    print('Best trial:', study.best_trial.params)"
   ]
  },
  {
   "cell_type": "markdown",
   "metadata": {},
   "source": [
    "### 4.2 Catboost + Optuna"
   ]
  },
  {
   "cell_type": "code",
   "execution_count": 36,
   "metadata": {},
   "outputs": [],
   "source": [
    "# def objective(trial):\n",
    "#     # Define the hyperparameter search space for CatBoost\n",
    "#     params = {\n",
    "#         'loss_function': 'Logloss',  # For binary classification in CatBoost\n",
    "#         'eval_metric': 'AUC',  # CatBoost uses AUC directly as the eval metric\n",
    "#         \"iterations\": 1000,\n",
    "#         \"learning_rate\": trial.suggest_float(\"learning_rate\", 1e-3, 0.1, log=True),\n",
    "#         \"depth\": trial.suggest_int(\"depth\", 1, 10),\n",
    "#         \"subsample\": trial.suggest_float(\"subsample\", 0.05, 1.0),\n",
    "#         \"colsample_bylevel\": trial.suggest_float(\"colsample_bylevel\", 0.05, 1.0),\n",
    "#         \"min_data_in_leaf\": trial.suggest_int(\"min_data_in_leaf\", 1, 100),\n",
    "#         'random_seed': 42,\n",
    "#         'verbose': 0  # Suppresses CatBoost output\n",
    "#     }\n",
    "    \n",
    "#     # Fitting CatBoost model with parameters from the trials\n",
    "#     model = Pipeline(steps=[('preprocessor', preprocessor), ('classifier', CatBoostClassifier(**params))])\n",
    "    \n",
    "#     # Stratified sampling \n",
    "#     cv = StratifiedKFold(5, shuffle=True, random_state=42)\n",
    "#     cv_splits = cv.split(X, y)\n",
    "    \n",
    "#     # Creating empty scores list to hold AUC scores from each trialed model\n",
    "#     scores = []\n",
    "#     for train_idx, val_idx in cv_splits:\n",
    "#         X_train_fold, X_val_fold = X.iloc[train_idx], X.iloc[val_idx]\n",
    "#         y_train_fold, y_val_fold = y.iloc[train_idx], y.iloc[val_idx]\n",
    "#         model.fit(X_train_fold, y_train_fold)\n",
    "#         y_pred_proba = model.predict_proba(X_val_fold)[:, 1]\n",
    "#         score = roc_auc_score(y_val_fold, y_pred_proba)\n",
    "#         scores.append(score)\n",
    "        \n",
    "#     # Printing and returning mean AUC scores\n",
    "#     mean_score = np.mean(scores)\n",
    "#     print(f\"Mean ROC AUC Score = {mean_score:.5f}\")\n",
    "#     return mean_score\n",
    "\n",
    "# # When set to True, optuna will create a study to find the optimal parameters\n",
    "# train = False\n",
    "\n",
    "# if train:\n",
    "    \n",
    "#     # Each optuna study uses an independent sampler with a TPE algorithm\n",
    "#     # For each trial, the TPE essentially uses Gaussian Mixture Models to identify the optimal parameter value\n",
    "#     study = optuna.create_study(sampler=TPESampler(n_startup_trials=30, multivariate=True, seed=42), direction=\"maximize\")\n",
    "#     study.optimize(objective, n_trials=100)\n",
    "#     print('Best value:', study.best_value)\n",
    "#     print('Best trial:', study.best_trial.params)"
   ]
  },
  {
   "cell_type": "markdown",
   "metadata": {},
   "source": [
    "## 5 Model training and evaluation using the best model"
   ]
  },
  {
   "cell_type": "code",
   "execution_count": 37,
   "metadata": {},
   "outputs": [],
   "source": [
    "# This is the parameters after training\n",
    "best_xgb_params = {\n",
    "    'learning_rate': 0.028797752657070342, \n",
    "    'max_depth': 8, \n",
    "    'subsample': 0.8918424713352255, \n",
    "    'colsample_bytree': 0.8550229885420852, \n",
    "    'lambda': 3.53875886477924, \n",
    "    'alpha': 0.0774211647399625}\n",
    "\n",
    "best_xgb_model = XGBClassifier(**best_xgb_params)"
   ]
  },
  {
   "cell_type": "code",
   "execution_count": 38,
   "metadata": {},
   "outputs": [],
   "source": [
    "# # This is the parameters after training\n",
    "# best_catboost_params = {\n",
    "#     'learning_rate': 0.09891405348764155, \n",
    "#     'depth': 6, \n",
    "#     'subsample': 0.9809977898486224, \n",
    "#     'colsample_bylevel': 0.9847688177175966, \n",
    "#     'min_data_in_leaf': 90,\n",
    "#     'verbose': 0}\n",
    "\n",
    "# best_catboost_model = CatBoostClassifier(**best_catboost_params)"
   ]
  },
  {
   "cell_type": "code",
   "execution_count": 39,
   "metadata": {},
   "outputs": [],
   "source": [
    "def model_training(model):\n",
    "    # Set the cross-validation parameters\n",
    "    n_splits = 5\n",
    "    kf = StratifiedKFold(n_splits=n_splits, shuffle=True, random_state=42)\n",
    "\n",
    "    # Initialize the OOF array to store the predictions\n",
    "    oof_preds = np.zeros(X.shape[0])\n",
    "    test_preds = np.zeros(X_test.shape[0])\n",
    "\n",
    "    # Looping over cross-validation folds\n",
    "    for fold, (train_idx, val_idx) in enumerate(kf.split(X, y)):\n",
    "        print(f\"Training the Fold {fold+1}/{n_splits}\")\n",
    "\n",
    "        # Separate training and validation data\n",
    "        X_tr, X_val = X.iloc[train_idx], X.iloc[val_idx]\n",
    "        y_tr, y_val = y.iloc[train_idx], y.iloc[val_idx]\n",
    "\n",
    "        model.fit(X_tr, y_tr)\n",
    "\n",
    "        # Predictions on the validation set\n",
    "        val_preds = model.predict_proba(X_val)[:, 1]\n",
    "        oof_preds[val_idx] = val_preds  # Stores OOF predictions\n",
    "        \n",
    "        # Predictions on the test set\n",
    "        test_preds += model.predict_proba(X_test)[:, 1] / n_splits  # Average of predictions for each fold\n",
    "\n",
    "        # AUC evaluation for this fold\n",
    "        fold_auc = roc_auc_score(y_val, val_preds)\n",
    "        print(f\"AUC of Fold {fold+1}: {fold_auc:.5f}\")\n",
    "\n",
    "    # AUC OOF Assessment\n",
    "    oof_auc = roc_auc_score(y, oof_preds)\n",
    "    print(f\"AUC OOF: {oof_auc:.4f}\")\n",
    "    \n",
    "    return oof_preds, test_preds\n"
   ]
  },
  {
   "cell_type": "code",
   "execution_count": 40,
   "metadata": {},
   "outputs": [
    {
     "name": "stdout",
     "output_type": "stream",
     "text": [
      "Training the Fold 1/5\n",
      "AUC of Fold 1: 0.98574\n",
      "Training the Fold 2/5\n",
      "AUC of Fold 2: 0.98479\n",
      "Training the Fold 3/5\n",
      "AUC of Fold 3: 0.98577\n",
      "Training the Fold 4/5\n",
      "AUC of Fold 4: 0.98482\n",
      "Training the Fold 5/5\n",
      "AUC of Fold 5: 0.98463\n",
      "AUC OOF: 0.9851\n"
     ]
    }
   ],
   "source": [
    "oof_preds[\"XGBoost\"], test_preds[\"XGBoost\"] = model_training(best_xgb_model)"
   ]
  },
  {
   "cell_type": "markdown",
   "metadata": {},
   "source": [
    "## 6 Feature importance using SHAP"
   ]
  },
  {
   "cell_type": "code",
   "execution_count": 41,
   "metadata": {},
   "outputs": [],
   "source": [
    "X_importance = X\n",
    "\n",
    "# Explain model predictions using shap library:\n",
    "explainer = shap.TreeExplainer(best_xgb_model)\n",
    "shap_values = explainer.shap_values(X_importance)"
   ]
  },
  {
   "cell_type": "code",
   "execution_count": 42,
   "metadata": {},
   "outputs": [
    {
     "data": {
      "image/png": "[encoded data removed]",
      "text/plain": [
       "<Figure size 800x950 with 1 Axes>"
      ]
     },
     "metadata": {},
     "output_type": "display_data"
    }
   ],
   "source": [
    "# Plot summary_plot as barplot:\n",
    "shap.summary_plot(shap_values, X_importance, plot_type='bar')"
   ]
  },
  {
   "cell_type": "code",
   "execution_count": 43,
   "metadata": {},
   "outputs": [
    {
     "data": {
      "text/html": [
       "<div>\n",
       "<style scoped>\n",
       "    .dataframe tbody tr th:only-of-type {\n",
       "        vertical-align: middle;\n",
       "    }\n",
       "\n",
       "    .dataframe tbody tr th {\n",
       "        vertical-align: top;\n",
       "    }\n",
       "\n",
       "    .dataframe thead th {\n",
       "        text-align: right;\n",
       "    }\n",
       "</style>\n",
       "<table border=\"1\" class=\"dataframe\">\n",
       "  <thead>\n",
       "    <tr style=\"text-align: right;\">\n",
       "      <th></th>\n",
       "      <th>column_name</th>\n",
       "      <th>shap_importance</th>\n",
       "    </tr>\n",
       "  </thead>\n",
       "  <tbody>\n",
       "    <tr>\n",
       "      <th>4</th>\n",
       "      <td>loan_int_rate</td>\n",
       "      <td>0.490995</td>\n",
       "    </tr>\n",
       "    <tr>\n",
       "      <th>19</th>\n",
       "      <td>loan_grade_C</td>\n",
       "      <td>0.449364</td>\n",
       "    </tr>\n",
       "    <tr>\n",
       "      <th>26</th>\n",
       "      <td>interest_percent_income</td>\n",
       "      <td>0.405383</td>\n",
       "    </tr>\n",
       "    <tr>\n",
       "      <th>18</th>\n",
       "      <td>loan_grade_B</td>\n",
       "      <td>0.403172</td>\n",
       "    </tr>\n",
       "    <tr>\n",
       "      <th>7</th>\n",
       "      <td>person_home_ownership_MORTGAGE</td>\n",
       "      <td>0.370448</td>\n",
       "    </tr>\n",
       "    <tr>\n",
       "      <th>5</th>\n",
       "      <td>loan_percent_income</td>\n",
       "      <td>0.341813</td>\n",
       "    </tr>\n",
       "    <tr>\n",
       "      <th>17</th>\n",
       "      <td>loan_grade_A</td>\n",
       "      <td>0.325755</td>\n",
       "    </tr>\n",
       "    <tr>\n",
       "      <th>24</th>\n",
       "      <td>cb_person_default_on_file_N</td>\n",
       "      <td>0.323819</td>\n",
       "    </tr>\n",
       "    <tr>\n",
       "      <th>1</th>\n",
       "      <td>person_income</td>\n",
       "      <td>0.220603</td>\n",
       "    </tr>\n",
       "    <tr>\n",
       "      <th>29</th>\n",
       "      <td>loan_to_income</td>\n",
       "      <td>0.204355</td>\n",
       "    </tr>\n",
       "    <tr>\n",
       "      <th>16</th>\n",
       "      <td>loan_intent_VENTURE</td>\n",
       "      <td>0.194204</td>\n",
       "    </tr>\n",
       "    <tr>\n",
       "      <th>12</th>\n",
       "      <td>loan_intent_EDUCATION</td>\n",
       "      <td>0.168218</td>\n",
       "    </tr>\n",
       "    <tr>\n",
       "      <th>25</th>\n",
       "      <td>cb_person_default_on_file_Y</td>\n",
       "      <td>0.136225</td>\n",
       "    </tr>\n",
       "    <tr>\n",
       "      <th>9</th>\n",
       "      <td>person_home_ownership_OWN</td>\n",
       "      <td>0.129367</td>\n",
       "    </tr>\n",
       "    <tr>\n",
       "      <th>15</th>\n",
       "      <td>loan_intent_PERSONAL</td>\n",
       "      <td>0.123179</td>\n",
       "    </tr>\n",
       "    <tr>\n",
       "      <th>14</th>\n",
       "      <td>loan_intent_MEDICAL</td>\n",
       "      <td>0.098303</td>\n",
       "    </tr>\n",
       "    <tr>\n",
       "      <th>10</th>\n",
       "      <td>person_home_ownership_RENT</td>\n",
       "      <td>0.095336</td>\n",
       "    </tr>\n",
       "    <tr>\n",
       "      <th>2</th>\n",
       "      <td>person_emp_length</td>\n",
       "      <td>0.07646</td>\n",
       "    </tr>\n",
       "    <tr>\n",
       "      <th>20</th>\n",
       "      <td>loan_grade_D</td>\n",
       "      <td>0.066854</td>\n",
       "    </tr>\n",
       "    <tr>\n",
       "      <th>11</th>\n",
       "      <td>loan_intent_DEBTCONSOLIDATION</td>\n",
       "      <td>0.066239</td>\n",
       "    </tr>\n",
       "    <tr>\n",
       "      <th>13</th>\n",
       "      <td>loan_intent_HOMEIMPROVEMENT</td>\n",
       "      <td>0.048549</td>\n",
       "    </tr>\n",
       "    <tr>\n",
       "      <th>28</th>\n",
       "      <td>repayment_year</td>\n",
       "      <td>0.047421</td>\n",
       "    </tr>\n",
       "    <tr>\n",
       "      <th>21</th>\n",
       "      <td>loan_grade_E</td>\n",
       "      <td>0.020101</td>\n",
       "    </tr>\n",
       "    <tr>\n",
       "      <th>3</th>\n",
       "      <td>loan_amnt</td>\n",
       "      <td>0.01522</td>\n",
       "    </tr>\n",
       "    <tr>\n",
       "      <th>0</th>\n",
       "      <td>person_age</td>\n",
       "      <td>0.008191</td>\n",
       "    </tr>\n",
       "    <tr>\n",
       "      <th>6</th>\n",
       "      <td>cb_person_cred_hist_length</td>\n",
       "      <td>0.003015</td>\n",
       "    </tr>\n",
       "    <tr>\n",
       "      <th>22</th>\n",
       "      <td>loan_grade_F</td>\n",
       "      <td>0.002704</td>\n",
       "    </tr>\n",
       "    <tr>\n",
       "      <th>8</th>\n",
       "      <td>person_home_ownership_OTHER</td>\n",
       "      <td>0.002298</td>\n",
       "    </tr>\n",
       "    <tr>\n",
       "      <th>23</th>\n",
       "      <td>loan_grade_G</td>\n",
       "      <td>0.000005</td>\n",
       "    </tr>\n",
       "    <tr>\n",
       "      <th>27</th>\n",
       "      <td>zero_repayment_risk</td>\n",
       "      <td>0.0</td>\n",
       "    </tr>\n",
       "  </tbody>\n",
       "</table>\n",
       "</div>"
      ],
      "text/plain": [
       "                       column_name shap_importance\n",
       "4                    loan_int_rate        0.490995\n",
       "19                    loan_grade_C        0.449364\n",
       "26         interest_percent_income        0.405383\n",
       "18                    loan_grade_B        0.403172\n",
       "7   person_home_ownership_MORTGAGE        0.370448\n",
       "5              loan_percent_income        0.341813\n",
       "17                    loan_grade_A        0.325755\n",
       "24     cb_person_default_on_file_N        0.323819\n",
       "1                    person_income        0.220603\n",
       "29                  loan_to_income        0.204355\n",
       "16             loan_intent_VENTURE        0.194204\n",
       "12           loan_intent_EDUCATION        0.168218\n",
       "25     cb_person_default_on_file_Y        0.136225\n",
       "9        person_home_ownership_OWN        0.129367\n",
       "15            loan_intent_PERSONAL        0.123179\n",
       "14             loan_intent_MEDICAL        0.098303\n",
       "10      person_home_ownership_RENT        0.095336\n",
       "2                person_emp_length         0.07646\n",
       "20                    loan_grade_D        0.066854\n",
       "11   loan_intent_DEBTCONSOLIDATION        0.066239\n",
       "13     loan_intent_HOMEIMPROVEMENT        0.048549\n",
       "28                  repayment_year        0.047421\n",
       "21                    loan_grade_E        0.020101\n",
       "3                        loan_amnt         0.01522\n",
       "0                       person_age        0.008191\n",
       "6       cb_person_cred_hist_length        0.003015\n",
       "22                    loan_grade_F        0.002704\n",
       "8      person_home_ownership_OTHER        0.002298\n",
       "23                    loan_grade_G        0.000005\n",
       "27             zero_repayment_risk             0.0"
      ]
     },
     "execution_count": 43,
     "metadata": {},
     "output_type": "execute_result"
    }
   ],
   "source": [
    "shap_sum = np.abs(shap_values).mean(axis=0)\n",
    "importance_df = pd.DataFrame([X_importance.columns.tolist(), shap_sum.tolist()]).T\n",
    "importance_df.columns = ['column_name', 'shap_importance']\n",
    "importance_df = importance_df.sort_values('shap_importance', ascending=False)\n",
    "importance_df"
   ]
  },
  {
   "cell_type": "markdown",
   "metadata": {},
   "source": [
    "## 7 Predict"
   ]
  },
  {
   "cell_type": "code",
   "execution_count": 44,
   "metadata": {},
   "outputs": [],
   "source": [
    "# train_df = pd.concat([X, y], axis=1)"
   ]
  },
  {
   "cell_type": "code",
   "execution_count": 45,
   "metadata": {},
   "outputs": [],
   "source": [
    "# hill_climb_test_preds, _ = climb_hill(\n",
    "#     train=train_df,\n",
    "#     oof_pred_df=pd.DataFrame(oof_preds),\n",
    "#     test_pred_df=pd.DataFrame(test_preds),\n",
    "#     target=\"loan_status\",\n",
    "#     objective=\"maximize\",\n",
    "#     eval_metric=partial(roc_auc_score),\n",
    "#     negative_weights=True,\n",
    "#     precision=0.001,\n",
    "#     plot_hill=True,\n",
    "#     plot_hist=False,\n",
    "#     return_oof_preds=True)"
   ]
  },
  {
   "cell_type": "code",
   "execution_count": 47,
   "metadata": {
    "tags": []
   },
   "outputs": [],
   "source": [
    "submission = pd.DataFrame({\n",
    "    \"id\": X_test_index,\n",
    "    \"loan_status\": test_preds[\"XGBoost\"]\n",
    "})\n",
    "\n",
    "# Save the submission to a CSV file\n",
    "submission.to_csv('submission.csv', index=False)"
   ]
  },
  {
   "cell_type": "markdown",
   "metadata": {},
   "source": [
    "## 8 Deployment"
   ]
  },
  {
   "cell_type": "markdown",
   "metadata": {},
   "source": [
    "### Pickling the model file for deployment"
   ]
  },
  {
   "cell_type": "code",
   "execution_count": 48,
   "metadata": {},
   "outputs": [],
   "source": [
    "import pickle"
   ]
  },
  {
   "cell_type": "code",
   "execution_count": 49,
   "metadata": {},
   "outputs": [],
   "source": [
    "pickle.dump(best_xgb_model, open('xgbmodel.pkl', 'wb'))"
   ]
  },
  {
   "cell_type": "code",
   "execution_count": null,
   "metadata": {},
   "outputs": [],
   "source": []
  }
 ],
 "metadata": {
  "kaggle": {
   "accelerator": "nvidiaTeslaT4",
   "dataSources": [
    {
     "databundleVersionId": 9709193,
     "sourceId": 84894,
     "sourceType": "competition"
    },
    {
     "datasetId": 5796052,
     "sourceId": 9519882,
     "sourceType": "datasetVersion"
    }
   ],
   "dockerImageVersionId": 30787,
   "isGpuEnabled": true,
   "isInternetEnabled": true,
   "language": "python",
   "sourceType": "notebook"
  },
  "kernelspec": {
   "display_name": "Python [conda env:mds574]",
   "language": "python",
   "name": "conda-env-mds574-py"
  },
  "language_info": {
   "codemirror_mode": {
    "name": "ipython",
    "version": 3
   },
   "file_extension": ".py",
   "mimetype": "text/x-python",
   "name": "python",
   "nbconvert_exporter": "python",
   "pygments_lexer": "ipython3",
   "version": "3.11.7"
  }
 },
 "nbformat": 4,
 "nbformat_minor": 4
}
